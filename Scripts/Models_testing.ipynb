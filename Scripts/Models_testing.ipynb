{
 "cells": [
  {
   "cell_type": "markdown",
   "id": "b533ebb5-25f2-4de2-b526-3fd07bddd8fc",
   "metadata": {},
   "source": [
    "# PRUEBA DE MODELOS - EMBEDDING Y CLASIFICACIÓN"
   ]
  },
  {
   "cell_type": "markdown",
   "id": "6d6198e1-a0a1-4f3b-92e2-e9275b1cbce8",
   "metadata": {},
   "source": [
    "Lo que se pretende en este libro de Jupyter es empezar con las pruebas de algunos modelos que se pudieron obtener de referencia en investigaciones anteriores. Todo esto con el fin de poder tener una mejor noción de estos modelos y en el mejor de los casos, ya tener un modelo definido con el que se trabajará posteriormente. \n",
    "\n",
    "Algunos de estos modelos son simplemente de embedding, otros tantos si conllevan algunas técnicas ya avanzadas de clasificación o detección de imágenes, según corresponda. La lista de modelos que se pretende probar es la siguiente:\n",
    "\n",
    "- OpenL3 (Solo de embedding)\n",
    "\n",
    "- ViT (de Google)\n",
    "\n",
    "- Contrastors: Aquí podemos hacer el uso a su vez de dos modelos, CLIP y MRL\n",
    "\n",
    "- Sports: Lista de varios modelos que nos pueden ayudar con la tarea asignada\n",
    "\n",
    "- ResNet: Modelo moldeable con el número de capas que éste utiliza, es una red neuronal convolucional\n",
    "\n",
    "- InceptionV3: Modelo moldeable con el número de capas y parámetros que éste utiliza, es una red neuronal convolucional"
   ]
  },
  {
   "cell_type": "markdown",
   "id": "6acb689b-a783-4210-887d-07519371ef3c",
   "metadata": {},
   "source": [
    "## Modelo 1: OpenL3"
   ]
  },
  {
   "cell_type": "markdown",
   "id": "2e1456c3-f456-4ff5-ae08-bf6d6a1128ab",
   "metadata": {},
   "source": [
    "Las especificaciones de este modelo se pueden encontrar en la página de [GitHub](https://github.com/marl/openl3?tab=readme-ov-file) o su [Documentación](https://openl3.readthedocs.io/en/latest/tutorial.html#introduction) oficial."
   ]
  },
  {
   "cell_type": "code",
   "execution_count": 11,
   "id": "5cf42efa-e983-4461-87e4-c9c6fcf90ba4",
   "metadata": {},
   "outputs": [
    {
     "name": "stdout",
     "output_type": "stream",
     "text": [
      "WARNING:tensorflow:5 out of the last 5 calls to <function TensorFlowTrainer.make_predict_function.<locals>.one_step_on_data_distributed at 0x1466a47c0> triggered tf.function retracing. Tracing is expensive and the excessive number of tracings could be due to (1) creating @tf.function repeatedly in a loop, (2) passing tensors with different shapes, (3) passing Python objects instead of tensors. For (1), please define your @tf.function outside of the loop. For (2), @tf.function has reduce_retracing=True option that can avoid unnecessary retracing. For (3), please refer to https://www.tensorflow.org/guide/function#controlling_retracing and https://www.tensorflow.org/api_docs/python/tf/function for  more details.\n",
      "\u001b[1m1/1\u001b[0m \u001b[32m━━━━━━━━━━━━━━━━━━━━\u001b[0m\u001b[37m\u001b[0m \u001b[1m0s\u001b[0m 272ms/step\n",
      "WARNING:tensorflow:6 out of the last 6 calls to <function TensorFlowTrainer.make_predict_function.<locals>.one_step_on_data_distributed at 0x1467713a0> triggered tf.function retracing. Tracing is expensive and the excessive number of tracings could be due to (1) creating @tf.function repeatedly in a loop, (2) passing tensors with different shapes, (3) passing Python objects instead of tensors. For (1), please define your @tf.function outside of the loop. For (2), @tf.function has reduce_retracing=True option that can avoid unnecessary retracing. For (3), please refer to https://www.tensorflow.org/guide/function#controlling_retracing and https://www.tensorflow.org/api_docs/python/tf/function for  more details.\n",
      "\u001b[1m1/1\u001b[0m \u001b[32m━━━━━━━━━━━━━━━━━━━━\u001b[0m\u001b[37m\u001b[0m \u001b[1m0s\u001b[0m 283ms/step\n"
     ]
    },
    {
     "data": {
      "text/plain": [
       "array([[-0.20485121,  2.7495792 ,  1.1525512 ,  1.6354275 ,  1.5630054 ,\n",
       "         3.0043402 ,  1.1680847 ,  0.20437273,  0.47765186,  1.6069542 ,\n",
       "         0.99042135,  2.744746  ,  3.0113118 ,  0.697831  ,  2.5043488 ,\n",
       "         2.8977034 ,  2.1103582 ,  1.0919865 ,  2.5187943 ,  2.6752896 ,\n",
       "         2.5137546 ,  0.80452126,  0.9297262 ,  2.2770233 ,  2.8381968 ,\n",
       "         0.6253177 ,  0.7834051 ,  1.436738  ,  1.1495699 ,  1.3403784 ,\n",
       "         1.7564527 ,  1.0250019 ,  2.2259736 ,  0.5685906 ,  2.5769222 ,\n",
       "         0.8931727 ,  2.3390589 ,  1.2697175 ,  1.2542069 ,  1.3876815 ,\n",
       "         1.3700166 ,  1.7157243 ,  0.76253283,  1.8189112 ,  0.24554229,\n",
       "         1.335274  ,  1.7735906 ,  1.3587192 ,  1.4913703 ,  1.041074  ,\n",
       "         0.53341097,  0.9961289 ,  0.8008581 ,  1.6766714 ,  1.8453351 ,\n",
       "         1.4003036 ,  1.7122384 ,  1.1727496 ,  1.851693  ,  2.0431597 ,\n",
       "         2.2497199 ,  1.0162674 ,  2.1898563 ,  1.1334101 ,  0.64272827,\n",
       "         1.9252778 ,  2.6810825 ,  1.1118598 ,  2.4728882 ,  2.0378585 ,\n",
       "         0.18904294,  0.79025114,  2.4218001 ,  2.8007655 ,  1.5280496 ,\n",
       "         1.5474136 ,  1.9214152 ,  1.3252783 ,  1.7291185 ,  1.6519809 ,\n",
       "         1.6730304 ,  0.71860415,  1.2508231 ,  1.5200086 ,  2.0593126 ,\n",
       "         1.9230796 ,  1.7712485 ,  3.1574547 ,  1.2433559 ,  2.713454  ,\n",
       "         1.4150548 ,  0.8275679 ,  0.17761555,  1.4295996 ,  0.402724  ,\n",
       "         3.7560945 ,  2.9716074 ,  2.1054938 ,  1.4818022 ,  2.4419835 ,\n",
       "         1.5843626 ,  1.7393502 ,  1.9626493 ,  1.830607  ,  0.7150854 ,\n",
       "         1.1647476 ,  1.1310599 ,  1.9774538 ,  1.4355531 ,  1.5156869 ,\n",
       "         1.5979875 ,  0.5193798 ,  1.9295925 ,  3.1267235 ,  0.37254888,\n",
       "         1.7504405 ,  2.0851407 ,  1.2470307 ,  1.0443157 , -0.09026211,\n",
       "         3.181277  ,  0.9165494 ,  1.2001781 ,  2.5041108 ,  0.9305678 ,\n",
       "         0.09242424,  1.0307933 ,  1.8854965 ,  1.5079899 ,  1.8392226 ,\n",
       "         1.8071203 ,  0.6490128 ,  1.5491434 ,  2.1097796 ,  0.8568534 ,\n",
       "         1.0614096 ,  1.536929  ,  1.2888623 ,  2.3350706 ,  0.6976912 ,\n",
       "         0.8105583 ,  1.9423215 ,  0.6261319 ,  2.3393662 ,  1.6619316 ,\n",
       "         2.0141628 ,  1.1772301 ,  0.92156947,  1.8653541 ,  1.2902074 ,\n",
       "         2.5316038 ,  0.24059922,  2.2795978 ,  1.9879104 ,  1.425057  ,\n",
       "         0.92885405,  1.5962604 ,  1.719163  ,  0.79301786,  2.2725556 ,\n",
       "         1.0584172 ,  1.4747607 ,  2.0802364 ,  0.7287637 ,  0.02222875,\n",
       "         0.68939507,  1.3485879 ,  0.55696934,  1.7018901 ,  1.2952051 ,\n",
       "         0.9304137 ,  0.71346456,  1.0721709 ,  2.3936746 ,  1.3517103 ,\n",
       "         1.8400532 ,  3.0535743 ,  1.5248033 ,  2.1646209 ,  2.8433282 ,\n",
       "         0.7472565 ,  1.3872107 ,  1.4184986 ,  1.7283857 ,  1.9101846 ,\n",
       "         3.4059415 ,  1.0183837 ,  1.2752259 ,  0.52478236,  1.4572835 ,\n",
       "         1.8859854 ,  1.1009525 ,  2.018782  ,  2.5567327 ,  2.2113345 ,\n",
       "         1.599143  ,  1.7910511 ,  0.9189052 ,  1.5837723 ,  1.4791529 ,\n",
       "         1.2947991 ,  2.3006215 ,  2.7331173 ,  1.2402371 ,  0.98130715,\n",
       "         1.3301815 ,  1.9842585 ,  1.447342  ,  1.2027946 ,  1.9843901 ,\n",
       "         2.4563801 ,  1.3951555 ,  0.72004324,  1.7766222 ,  1.9360775 ,\n",
       "         3.3049457 ,  0.8194702 ,  1.4591975 ,  1.3551744 ,  2.109625  ,\n",
       "         2.322318  ,  2.5884986 ,  2.1426508 ,  0.669836  ,  3.2447402 ,\n",
       "         1.3465672 ,  1.6958401 ,  1.9680761 ,  1.6791688 ,  2.2260683 ,\n",
       "         0.70770514,  2.1221418 ,  1.3575913 ,  0.82252675,  1.5782276 ,\n",
       "         1.5124403 ,  0.96351004,  1.4934953 ,  1.4218223 ,  2.134638  ,\n",
       "         1.7454535 ,  2.6233408 ,  1.7791142 ,  2.0155365 ,  2.0383744 ,\n",
       "         1.2378262 ,  1.0985494 ,  1.5937773 ,  1.8554164 ,  0.17792201,\n",
       "         0.53817767,  0.98444164,  1.4498764 ,  1.3323634 ,  2.3908966 ,\n",
       "         1.3856658 ,  1.3186507 ,  0.9486842 ,  3.846665  ,  1.5070676 ,\n",
       "         0.33823866,  0.7877687 , -0.16274174,  1.0884465 ,  1.9007766 ,\n",
       "         2.5469697 ,  0.66021   ,  1.5684887 ,  1.2924713 ,  0.63552445,\n",
       "         1.5935831 ,  1.4875512 ,  1.5960518 ,  0.8582631 ,  2.1310747 ,\n",
       "         1.0317056 ,  1.0481809 ,  1.8717718 ,  2.0543463 ,  1.1496912 ,\n",
       "         2.888617  ,  1.7371292 ,  2.2067773 ,  3.1110735 ,  1.0411993 ,\n",
       "         0.27202043,  0.9156175 ,  0.5618163 ,  1.6236361 ,  1.6475532 ,\n",
       "         2.3125062 ,  0.49094838,  1.1980839 ,  1.3158065 ,  3.740868  ,\n",
       "         1.9677469 ,  1.0197357 ,  1.1762849 ,  0.7334433 ,  0.34872186,\n",
       "         0.7972447 ,  1.5106252 ,  2.366034  ,  2.192229  ,  1.6929114 ,\n",
       "         1.4890344 ,  3.0548801 ,  1.0835251 ,  2.1524706 ,  0.96201026,\n",
       "         1.0682323 ,  2.3660114 ,  1.1081941 ,  0.83726406,  1.2536136 ,\n",
       "         2.2398672 ,  2.112317  ,  2.3908331 ,  0.47984797,  2.062965  ,\n",
       "         0.38893068,  1.8647356 ,  1.670881  ,  0.6539917 ,  1.2611164 ,\n",
       "         1.5717337 ,  0.50576305,  2.5663433 ,  1.8686793 ,  2.172477  ,\n",
       "         1.0179551 ,  1.0023283 ,  1.2324402 ,  1.3330743 ,  1.8540252 ,\n",
       "         2.8859663 ,  1.2206006 ,  2.1910655 ,  0.19158404,  1.1950855 ,\n",
       "         1.1625215 ,  0.5881799 ,  1.9052645 ,  0.8708216 ,  1.4036076 ,\n",
       "         0.9691802 ,  0.95226324,  1.4744202 ,  1.4248235 ,  1.2367972 ,\n",
       "         2.808134  ,  2.4231102 ,  0.5292709 ,  2.915683  ,  0.8944221 ,\n",
       "         1.0192145 ,  3.3238676 ,  1.347873  ,  1.9790424 ,  0.4238795 ,\n",
       "         1.3618789 ,  2.133664  ,  1.2368494 ,  1.7652725 ,  1.6785655 ,\n",
       "         1.1529132 ,  3.577917  ,  1.3276899 ,  3.103002  ,  1.8847266 ,\n",
       "         0.86568314,  1.7473139 ,  2.0703397 ,  1.0410285 ,  1.8536546 ,\n",
       "         1.6400666 ,  0.85971665,  0.5454826 ,  1.9495049 ,  1.6841565 ,\n",
       "         2.3934028 ,  2.4245036 ,  1.7368637 ,  1.1532226 ,  3.5255368 ,\n",
       "         2.6359017 ,  2.0186172 ,  0.97741675,  3.3602288 ,  1.6372435 ,\n",
       "         1.0248289 ,  1.292603  ,  0.53276104,  2.1690738 ,  0.18544208,\n",
       "         1.077914  ,  1.9338853 ,  3.343952  ,  1.8495357 ,  2.0533946 ,\n",
       "         2.0159342 ,  1.9051903 ,  2.091736  ,  1.2920363 ,  1.8911469 ,\n",
       "         2.4060938 ,  2.1457841 ,  0.90916306,  2.5142744 ,  1.8741465 ,\n",
       "         1.0483673 ,  1.9130058 ,  1.5597029 ,  1.6793998 ,  0.8772772 ,\n",
       "         0.43882233,  2.4843915 ,  3.2221475 ,  1.9798054 ,  1.8952355 ,\n",
       "         1.946561  ,  1.1553272 ,  1.1124197 ,  0.7784294 ,  0.44111228,\n",
       "         1.2199454 ,  0.80838984,  1.7045665 ,  1.4436787 ,  0.6235423 ,\n",
       "         1.405282  ,  0.7928036 ,  2.8732536 ,  1.6124893 ,  1.6760724 ,\n",
       "         0.7731418 ,  1.2888249 ,  1.5158899 ,  1.500979  ,  0.69608504,\n",
       "         2.3611884 ,  1.0385586 ,  2.2581875 ,  1.2921201 ,  2.0748973 ,\n",
       "         1.8155406 ,  2.4921267 ,  2.6781292 ,  1.3267325 ,  2.2051191 ,\n",
       "         0.9098008 ,  0.9012551 ,  0.12941791,  2.409787  ,  0.6900594 ,\n",
       "         2.1228986 ,  2.2754078 ,  1.1853325 ,  0.4757692 ,  1.8257791 ,\n",
       "         0.93363845,  0.8266524 ,  1.4521326 ,  1.8899059 ,  1.731703  ,\n",
       "         1.3749826 ,  2.3283339 ,  1.0289295 ,  0.7492265 ,  2.640315  ,\n",
       "         0.99254185,  1.5912545 ,  1.7530429 ,  1.5952451 ,  0.78447586,\n",
       "         2.51337   ,  2.1093833 ,  1.606523  ,  1.1113402 ,  0.39814588,\n",
       "         1.3742307 ,  0.92801857,  2.9369183 ,  1.7763023 ,  1.0433584 ,\n",
       "         0.09030688,  0.3081057 ,  1.561068  ,  1.2821492 ,  1.9407334 ,\n",
       "         2.2916896 ,  1.6688268 ,  0.95677584,  2.0200806 ,  1.8097007 ,\n",
       "         0.8366819 , -0.2874099 ,  1.8230293 ,  1.1122035 ,  2.466584  ,\n",
       "         3.9499621 ,  1.5631782 ,  1.0250038 ,  1.4679947 ,  2.22061   ,\n",
       "         0.03978098,  3.3677886 ,  1.2276036 ,  2.0392818 ,  1.563246  ,\n",
       "         1.9572912 ,  1.6245346 ]], dtype=float32)"
      ]
     },
     "execution_count": 11,
     "metadata": {},
     "output_type": "execute_result"
    }
   ],
   "source": [
    "#Cargamos las librerias a utilizar\n",
    "\n",
    "#!pip install openl3\n",
    "\n",
    "import openl3\n",
    "from skimage.io import imread\n",
    "import functions.general_functions as gf\n",
    "\n",
    "#Obtenemos la ruta para la carpeta en donde se encuentran todas las imágenes\n",
    "ruta_imagenes_train = gf.get_data_path('train_images')\n",
    "#Nombre de la imagen a la cual aplicaremos el modelo\n",
    "imagen_name = '993123.jpeg'\n",
    "\n",
    "#Leemos la imagen\n",
    "imagen1 = imread(ruta_imagenes_train + imagen_name)\n",
    "#Generamos el embedding de la imagen\n",
    "emb = openl3.get_image_embedding(imagen1, content_type=\"env\", input_repr=\"linear\", embedding_size=512)\n",
    "\n",
    "#Pre cargamos el modelo\n",
    "modelo = openl3.models.load_image_embedding_model(input_repr=\"mel256\", content_type=\"music\", embedding_size=512)\n",
    "\n",
    "#Obtenemos el embedding final\n",
    "emb = openl3.get_image_embedding(imagen1, model=modelo)\n",
    "\n",
    "emb"
   ]
  },
  {
   "cell_type": "code",
   "execution_count": 12,
   "id": "2bd6eab2-7011-44bf-9a3f-66677a1ca423",
   "metadata": {},
   "outputs": [],
   "source": [
    "#Aplicación del modelo a más de una imagen\n",
    "\n"
   ]
  },
  {
   "cell_type": "markdown",
   "id": "403ae434-9ac1-42c4-9b90-3af375144501",
   "metadata": {},
   "source": [
    "- Del método \"imread\" obtuvimos un array de matrices sobre la imagen\n",
    "\n",
    "- Del (primer) método \"get_image_embedding\" obtenemos ya el array final con el embedding de la imagen\n",
    "\n",
    "- Del (segundo) método \"get_image_embedding\" en el cual ya se junta la pre carga del modelo, obtenemos de igual manera un array de un array con el embedding de la imagen (este es al parecer diferente del primer método)\n",
    "\n",
    "- De los métodos de openl3, los argumentos significan lo siguiente: **FALTA INVESTIGAR ESTA PARTE**\n",
    "\n",
    "- Hasta ahora, he podido ejecutar el modelo de manera correcta\n",
    "\n",
    "- **NOTA: Al ejecutar la función me sale un aviso de que estoy ejecutando una función costosa y me da los siguientes consejos para evitar estos cargos excesivos: Poner como argumento \"reduce_tracing = True\" o consultar documentación de TensorFlow [Doc1](https://www.tensorflow.org/guide/function#controlling_retracing) [Doc2](https://www.tensorflow.org/api_docs/python/tf/function)"
   ]
  },
  {
   "cell_type": "code",
   "execution_count": null,
   "id": "0c4ffba8-d1d6-4e2f-a7d6-c6b9cb53d819",
   "metadata": {},
   "outputs": [],
   "source": []
  }
 ],
 "metadata": {
  "kernelspec": {
   "display_name": "Python 3 (ipykernel)",
   "language": "python",
   "name": "python3"
  },
  "language_info": {
   "codemirror_mode": {
    "name": "ipython",
    "version": 3
   },
   "file_extension": ".py",
   "mimetype": "text/x-python",
   "name": "python",
   "nbconvert_exporter": "python",
   "pygments_lexer": "ipython3",
   "version": "3.11.7"
  }
 },
 "nbformat": 4,
 "nbformat_minor": 5
}
