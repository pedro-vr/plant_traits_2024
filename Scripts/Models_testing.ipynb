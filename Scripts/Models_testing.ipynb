{
 "cells": [
  {
   "cell_type": "markdown",
   "id": "b533ebb5-25f2-4de2-b526-3fd07bddd8fc",
   "metadata": {},
   "source": [
    "# PRUEBA DE MODELOS - EMBEDDING Y CLASIFICACIÓN"
   ]
  },
  {
   "cell_type": "markdown",
   "id": "6d6198e1-a0a1-4f3b-92e2-e9275b1cbce8",
   "metadata": {},
   "source": [
    "Lo que se pretende en este libro de Jupyter es empezar con las pruebas de algunos modelos que se pudieron obtener de referencia en investigaciones anteriores. Todo esto con el fin de poder tener una mejor noción de estos modelos y en el mejor de los casos, ya tener un modelo definido con el que se trabajará posteriormente. \n",
    "\n",
    "Algunos de estos modelos son simplemente de embedding, otros tantos si conllevan algunas técnicas ya avanzadas de clasificación o detección de imágenes, según corresponda. La lista de modelos que se pretende probar es la siguiente:\n",
    "\n",
    "- OpenL3 (Solo de embedding)\n",
    "\n",
    "- ViT (de Google)\n",
    "\n",
    "- Contrastors: Aquí podemos hacer el uso a su vez de dos modelos, CLIP y MRL\n",
    "\n",
    "- Sports: Lista de varios modelos que nos pueden ayudar con la tarea asignada\n",
    "\n",
    "- ResNet: Modelo moldeable con el número de capas que éste utiliza, es una red neuronal convolucional\n",
    "\n",
    "- InceptionV3: Modelo moldeable con el número de capas y parámetros que éste utiliza, es una red neuronal convolucional"
   ]
  },
  {
   "cell_type": "markdown",
   "id": "6acb689b-a783-4210-887d-07519371ef3c",
   "metadata": {},
   "source": [
    "## Modelo 1: OpenL3"
   ]
  },
  {
   "cell_type": "markdown",
   "id": "2e1456c3-f456-4ff5-ae08-bf6d6a1128ab",
   "metadata": {},
   "source": [
    "Las especificaciones de este modelo se pueden encontrar en la página de [GitHub](https://github.com/marl/openl3?tab=readme-ov-file) o su [Documentación](https://openl3.readthedocs.io/en/latest/tutorial.html#introduction) oficial.\n",
    "\n",
    "\n",
    "Los parámetros para los métodos de este modelo son los siguientes:\n",
    "\n",
    "- content_type: \"env\", \"music\" (default). \"music\" es para videos, imágenes o música\n",
    "\n",
    "- input_repr: \"linear\", \"mel128\" (default), \"mel256\"\n",
    "\n",
    "- embedding_size: 512, 8192 (default). Tamaño del array resultante con el embedding de la imagen\n",
    "\n",
    "Si el embedding ya existe, entonces no crea uno nuevo, deja el \"original\"\n",
    "\n",
    "Para este modelo, existen 3 posibilidades:\n",
    "\n",
    "1. Puedes ejecutar el modelo directamente a una imagen (o lista de imágenes) con el método \"get_image_embedding\"\n",
    "\n",
    "2. Puedes guardar el embedding en la misma carpeta de donde viene la imagen para un uso posterior. Para guardar el embedding es el método \"process_image_file\" y para cargarlo es el método \"np.load\" con np la librería \"numpy\"\n",
    "\n",
    "3. Puedes pre cargar desde un principio el modelo para que no estés cargandolo cada que lo requieras para una imagen. El método para pre cargar el modelo es \"openl3.models.load_image_embedding_model\", después, para usarlo en los métodos de los puntos anteriores, pasas el modelo con el argumento \"model\"\n",
    "\n",
    "- Del método \"imread\" obtuvimos un array de matrices sobre la imagen\n",
    "\n",
    "- De los métodos de openl3, los argumentos significan lo siguiente: **FALTA INVESTIGAR ESTA PARTE**\n",
    "\n",
    "- Hasta ahora, he podido ejecutar el modelo de manera correcta\n",
    "\n",
    "- **NOTA: Al ejecutar la función me sale un aviso de que estoy ejecutando una función costosa y me da los siguientes consejos para evitar estos cargos excesivos: Poner como argumento \"reduce_tracing = True\" o consultar documentación de TensorFlow [Doc1](https://www.tensorflow.org/guide/function#controlling_retracing) [Doc2](https://www.tensorflow.org/api_docs/python/tf/function)"
   ]
  },
  {
   "cell_type": "code",
   "execution_count": 7,
   "id": "cd8b845c-5846-4483-9846-d86bd7282331",
   "metadata": {},
   "outputs": [
    {
     "name": "stdout",
     "output_type": "stream",
     "text": [
      "False\n"
     ]
    }
   ],
   "source": [
    "import tensorflow as tf\n",
    "print(tf.test.is_built_with_cuda())"
   ]
  },
  {
   "cell_type": "code",
   "execution_count": 1,
   "id": "e2945cd4-835d-4077-bb31-6359ec2fd399",
   "metadata": {},
   "outputs": [
    {
     "name": "stderr",
     "output_type": "stream",
     "text": [
      "2024-07-31 19:10:26.053985: I tensorflow/core/platform/cpu_feature_guard.cc:210] This TensorFlow binary is optimized to use available CPU instructions in performance-critical operations.\n",
      "To enable the following instructions: AVX2 FMA, in other operations, rebuild TensorFlow with the appropriate compiler flags.\n"
     ]
    }
   ],
   "source": [
    "#Librerias a utilizar en todo este proceso\n",
    "\n",
    "#!pip install openl3\n",
    "\n",
    "import openl3\n",
    "from skimage.io import imread\n",
    "import functions.general_functions as gf\n",
    "\n",
    "#Los embeddings se pueden leer con numpy\n",
    "import numpy as np"
   ]
  },
  {
   "cell_type": "markdown",
   "id": "8512dc05-3dfa-4892-8778-938211136968",
   "metadata": {},
   "source": [
    "### 1.1 Aplicación directa del modelo"
   ]
  },
  {
   "cell_type": "code",
   "execution_count": 2,
   "id": "4a9ba985-4708-4c9c-839f-5cb242f5d5e6",
   "metadata": {},
   "outputs": [],
   "source": [
    "#Pre cargamos el modelo, al hacerlo solo una vez no es necesario pre cargar el modelo cada vez que se va a utilizar\n",
    "modelo = openl3.models.load_image_embedding_model(input_repr=\"mel256\", content_type=\"music\", embedding_size=512)\n",
    "\n",
    "#Variable global, de donde obtenemos la ruta de las imágenes de entrenamiento y prueba\n",
    "ruta_imagenes_train = gf.get_data_path('train_images')\n",
    "ruta_imagenes_test = gf.get_data_path('test_images')"
   ]
  },
  {
   "cell_type": "code",
   "execution_count": 3,
   "id": "5cf42efa-e983-4461-87e4-c9c6fcf90ba4",
   "metadata": {},
   "outputs": [
    {
     "name": "stdout",
     "output_type": "stream",
     "text": [
      "\u001b[1m1/1\u001b[0m \u001b[32m━━━━━━━━━━━━━━━━━━━━\u001b[0m\u001b[37m\u001b[0m \u001b[1m0s\u001b[0m 296ms/step\n"
     ]
    },
    {
     "data": {
      "text/plain": [
       "array([[ 1.175706  ,  1.5434446 ,  1.8470824 ,  1.6111743 ,  3.9059458 ,\n",
       "         1.6161033 ,  1.1251589 ,  1.8484113 ,  1.2820483 ,  1.2422009 ,\n",
       "         1.2345903 ,  0.83172244,  1.2606227 ,  1.6085217 ,  2.310515  ,\n",
       "         1.9807837 ,  2.63912   ,  1.8400848 ,  1.7005421 ,  1.7075837 ,\n",
       "         1.0354801 ,  2.1518202 ,  0.6044424 ,  1.4306686 ,  0.98116654,\n",
       "         0.777962  ,  3.3654976 ,  4.162442  ,  1.9882624 ,  0.7811913 ,\n",
       "         2.5927725 ,  1.8348336 ,  1.7911009 ,  1.8612864 ,  2.2643867 ,\n",
       "         2.5106506 ,  1.129749  ,  0.7803635 ,  1.5808517 ,  2.0452437 ,\n",
       "         0.7477303 ,  2.566805  ,  1.2202104 ,  2.673956  ,  1.3030437 ,\n",
       "         0.9613706 ,  1.4589942 ,  1.1933473 ,  1.6517575 ,  1.4095986 ,\n",
       "         1.3867158 ,  1.8570193 ,  3.5165267 ,  1.0719959 ,  0.7293594 ,\n",
       "         2.3112679 ,  0.84064364,  2.1612198 ,  3.0060468 ,  1.9224309 ,\n",
       "         1.1812272 ,  1.891209  ,  2.472405  ,  1.2888657 ,  1.6927787 ,\n",
       "         2.1506999 ,  1.3459386 ,  2.0038981 ,  1.5930213 ,  0.47655213,\n",
       "         2.6193697 ,  1.9717464 ,  4.062987  ,  1.1046907 ,  1.1110872 ,\n",
       "         2.361168  ,  2.197923  ,  2.2356052 ,  1.5180908 ,  1.4714471 ,\n",
       "         0.7321862 ,  2.3340888 ,  2.2026641 ,  2.900152  ,  1.8455327 ,\n",
       "         2.8180366 ,  3.579984  ,  1.7780606 ,  0.6885492 ,  0.74330634,\n",
       "         1.4548118 ,  1.7892987 ,  2.623982  ,  2.2822454 ,  2.6337693 ,\n",
       "         1.810327  ,  2.0195496 ,  1.8318466 ,  0.5800682 ,  1.9717218 ,\n",
       "         1.1088709 ,  2.4765005 ,  1.3142545 ,  2.3426805 ,  3.3546166 ,\n",
       "         1.8336228 ,  1.4230171 ,  1.3460764 ,  1.2419913 ,  1.6326134 ,\n",
       "         1.8541243 ,  3.3094888 ,  3.1520083 ,  1.1276817 ,  2.1059825 ,\n",
       "         1.4034028 ,  2.2198758 ,  1.3768513 ,  2.19128   ,  0.87318957,\n",
       "         1.9403172 ,  2.2162051 ,  2.1737297 ,  1.9482977 ,  3.2339306 ,\n",
       "         2.4979992 ,  3.8708446 ,  0.30502355,  1.1382095 ,  1.8605169 ,\n",
       "         2.1578095 ,  0.5733128 ,  0.98379403,  0.8280359 ,  0.8086305 ,\n",
       "         2.3863525 ,  2.9791481 ,  1.9045479 ,  1.9796925 ,  1.8616962 ,\n",
       "         3.3632848 ,  1.8634696 ,  1.107185  ,  1.4592223 ,  1.6343129 ,\n",
       "         1.3946321 ,  1.3572518 ,  0.35844022,  1.2527131 ,  3.150411  ,\n",
       "         1.6096046 ,  1.1554693 ,  2.1358314 ,  1.7029598 ,  1.141921  ,\n",
       "         1.6153053 ,  1.6055027 ,  3.1051896 ,  3.6214821 ,  1.6230621 ,\n",
       "         1.5834004 ,  1.6298965 ,  2.8244247 ,  1.1675341 ,  2.7904487 ,\n",
       "         1.7303566 ,  2.130632  ,  0.6963417 ,  1.751126  ,  1.3575698 ,\n",
       "         2.9695826 ,  1.3795626 ,  2.0887012 ,  2.9579601 ,  1.0759045 ,\n",
       "         0.6480726 ,  1.1689644 ,  2.195088  ,  0.7771737 ,  1.8708503 ,\n",
       "         1.973008  ,  2.593222  ,  1.3974954 ,  3.137685  ,  1.4733729 ,\n",
       "         2.9118552 ,  0.6655876 ,  1.1402754 ,  1.6189083 ,  2.1220033 ,\n",
       "         1.8366833 ,  1.8314385 ,  2.2287154 ,  3.9584134 ,  1.6328561 ,\n",
       "         2.620542  ,  1.4777068 ,  0.15441383,  1.1240487 ,  3.3462892 ,\n",
       "         1.7969214 ,  1.556514  ,  2.4305325 ,  0.8590141 ,  1.6037987 ,\n",
       "         2.3268068 ,  1.0716914 ,  2.353262  ,  0.7552768 ,  2.2437394 ,\n",
       "         1.8851045 ,  1.3443502 ,  1.2537194 ,  0.95854366,  1.3386508 ,\n",
       "         0.98735577,  2.4222198 ,  1.471299  ,  0.40153554,  0.9825933 ,\n",
       "         1.8274686 ,  2.1684446 ,  1.9626218 ,  3.0763166 ,  2.1571612 ,\n",
       "         1.7695723 ,  2.6577256 ,  1.9825742 ,  2.0900128 ,  1.4026421 ,\n",
       "         1.4734573 ,  1.1778079 ,  1.3406878 ,  1.0191549 ,  2.4203165 ,\n",
       "         0.9642346 ,  1.3775394 ,  1.2101616 ,  2.7640269 ,  2.3669791 ,\n",
       "         0.7761775 ,  2.118767  ,  1.8146111 ,  1.7414246 ,  1.2149911 ,\n",
       "         1.6906894 ,  1.9912071 ,  4.472443  ,  0.4392021 ,  1.4774317 ,\n",
       "         1.5085039 ,  0.56578064,  2.3826897 ,  1.9044176 ,  1.2921616 ,\n",
       "         0.982777  ,  1.7379091 ,  1.5467534 ,  0.9382145 ,  2.8912523 ,\n",
       "         2.1456141 ,  2.7281427 ,  2.3932753 ,  1.2604761 ,  2.3788674 ,\n",
       "         1.9280934 ,  2.3026574 ,  2.244354  ,  1.2846617 ,  1.1534966 ,\n",
       "         2.1021774 ,  1.657334  ,  1.0025334 ,  2.1684284 ,  1.6966815 ,\n",
       "         3.6313214 ,  1.7694956 ,  2.2314448 ,  0.88858825,  0.8019584 ,\n",
       "         0.42250943,  2.4249673 ,  2.2758982 ,  1.6080158 ,  1.3630352 ,\n",
       "         1.0489814 , -0.0961695 ,  0.0613366 ,  3.0018718 ,  2.657539  ,\n",
       "         1.7546085 ,  2.5809753 ,  2.8700643 ,  1.0275998 ,  2.5966926 ,\n",
       "         1.8877069 ,  0.92376304,  0.8094482 ,  1.3924993 ,  0.9060505 ,\n",
       "         0.7375886 ,  1.5616958 ,  0.9408794 ,  1.807155  ,  1.5401651 ,\n",
       "         2.1586545 ,  1.2999291 ,  1.3566748 ,  0.8188017 ,  0.20982033,\n",
       "         1.4128046 ,  2.732088  ,  2.1413565 ,  0.877346  ,  2.5168564 ,\n",
       "         2.8613496 ,  1.3230908 ,  1.6020036 ,  1.7247399 ,  1.008273  ,\n",
       "         1.827462  ,  3.3676603 ,  1.7086353 ,  0.81798834,  0.38888142,\n",
       "         1.4026177 ,  0.32413113,  1.3097413 ,  1.0313536 ,  1.7172253 ,\n",
       "         2.3557925 ,  1.3111204 ,  1.3517301 ,  0.45486632,  1.5576808 ,\n",
       "         2.4745257 ,  1.9757316 ,  1.4509815 ,  2.2598398 ,  0.9587231 ,\n",
       "         1.054393  ,  0.22588788,  1.3125238 ,  1.3522398 ,  1.6951782 ,\n",
       "         3.7570148 ,  2.4094355 ,  2.3221521 ,  0.7649872 ,  0.41615215,\n",
       "         2.2115865 ,  2.4118917 ,  2.3731947 ,  1.2105519 ,  0.14909582,\n",
       "         2.1226873 ,  1.071508  ,  1.3133154 ,  0.13713017,  1.3183657 ,\n",
       "         2.7107043 ,  3.4891021 ,  1.7466547 ,  2.1628833 ,  1.3982184 ,\n",
       "         0.69732356,  3.354535  ,  1.4641207 ,  1.2138011 ,  1.1258827 ,\n",
       "         2.3859258 ,  2.208928  ,  3.1228552 ,  0.7562111 ,  2.751453  ,\n",
       "         2.0329013 ,  2.5957615 ,  1.6002452 ,  1.8631349 ,  1.2944238 ,\n",
       "         4.089752  ,  1.2022967 ,  1.8000019 ,  3.009405  ,  0.61956596,\n",
       "         1.9118965 ,  1.7915144 ,  0.7789993 ,  0.9837974 ,  1.3568966 ,\n",
       "         0.3999674 ,  1.9177532 ,  0.95263   ,  2.9284015 ,  1.149992  ,\n",
       "         2.1916583 ,  1.2177802 ,  1.5857089 ,  2.1940875 ,  0.44687366,\n",
       "         2.3858454 ,  3.9504175 ,  0.5655163 ,  2.6389308 ,  0.15950087,\n",
       "         2.1763046 ,  0.97411096,  0.27542314,  1.9027846 ,  0.509019  ,\n",
       "         1.4849098 ,  1.5165368 ,  0.02513056,  1.8518919 ,  1.4084322 ,\n",
       "         2.115561  ,  3.5317254 ,  0.74647844,  1.6053514 ,  1.0835618 ,\n",
       "         1.3358855 ,  0.8422781 ,  1.0444161 ,  1.0711006 ,  3.2195356 ,\n",
       "         1.7400088 ,  3.472991  ,  2.0065453 ,  2.3838098 ,  1.6747029 ,\n",
       "         1.0819947 ,  2.4989796 ,  0.9762982 ,  0.6131284 ,  1.9837892 ,\n",
       "         1.5807332 ,  1.2274867 ,  1.3495158 ,  2.3833666 ,  2.5631557 ,\n",
       "         1.5764227 ,  2.9738996 ,  0.93225515,  2.347555  ,  0.77388114,\n",
       "         2.2777517 ,  2.3635151 ,  1.9934646 ,  3.1203682 ,  1.4682986 ,\n",
       "         1.6839352 ,  2.1998355 ,  0.62159514,  3.8899078 ,  1.1311991 ,\n",
       "         0.533277  ,  1.5396821 ,  1.8221093 ,  1.110822  ,  0.28853527,\n",
       "         1.3727562 ,  1.1685401 ,  1.3225605 ,  0.8580937 ,  1.8518877 ,\n",
       "         1.3909699 ,  3.2519639 ,  2.1847272 ,  0.913566  ,  0.7795896 ,\n",
       "         1.2857395 ,  1.1553231 ,  1.0589856 ,  1.4379913 ,  2.7278197 ,\n",
       "         1.6744288 ,  1.1484152 ,  0.85729074,  1.5635169 ,  1.4469551 ,\n",
       "         1.3510762 ,  2.0154874 ,  1.0346603 ,  2.4419563 ,  1.469019  ,\n",
       "         2.9397585 ,  1.2478424 ,  0.93469393,  0.9532465 ,  1.6992624 ,\n",
       "         2.7834325 ,  0.32698208,  1.1154722 ,  3.0087442 ,  1.8318268 ,\n",
       "         1.8996798 ,  1.71941   ,  0.7863625 ,  1.6181277 ,  1.6955439 ,\n",
       "         1.9642757 ,  1.7384559 ,  1.752031  ,  2.4207637 ,  2.0373354 ,\n",
       "         1.7210752 ,  1.866144  ,  1.0500181 ,  1.8593454 ,  1.6727269 ,\n",
       "         2.3892353 ,  1.1329664 ]], dtype=float32)"
      ]
     },
     "execution_count": 3,
     "metadata": {},
     "output_type": "execute_result"
    }
   ],
   "source": [
    "#Método para generar los embeddings de manera directa a una sola imagen\n",
    "\n",
    "#Nombre de la imagen a la cual aplicaremos el modelo\n",
    "imagen_name = '993123.jpeg'\n",
    "\n",
    "#Leemos la imagen\n",
    "imagen1 = imread(ruta_imagenes_train + imagen_name)\n",
    "#Generamos el embedding de la imagen de manera directa\n",
    "emb = openl3.get_image_embedding(imagen1, content_type=\"env\", input_repr=\"linear\", embedding_size=512)\n",
    "\n",
    "emb"
   ]
  },
  {
   "cell_type": "markdown",
   "id": "1b49b5a1-03cb-46de-bb64-dea1ea37768c",
   "metadata": {},
   "source": [
    "### 1.2 Guardar Embedding para uso futuro"
   ]
  },
  {
   "cell_type": "code",
   "execution_count": 4,
   "id": "2bd6eab2-7011-44bf-9a3f-66677a1ca423",
   "metadata": {},
   "outputs": [
    {
     "name": "stdout",
     "output_type": "stream",
     "text": [
      "openl3: Processing /Users/pedrovela/Docs/Datasets - ML/planttraits2024/train_images/998892.jpeg (1/2)\n",
      "openl3: /Users/pedrovela/Docs/Datasets - ML/planttraits2024/train_images/998892.npz exists, skipping.\n",
      "openl3: Processing /Users/pedrovela/Docs/Datasets - ML/planttraits2024/train_images/994535.jpeg (2/2)\n",
      "openl3: /Users/pedrovela/Docs/Datasets - ML/planttraits2024/train_images/994535.npz exists, skipping.\n"
     ]
    }
   ],
   "source": [
    "#Aplicación del modelo a más de una imagen\n",
    "\n",
    "#Rutas finales de las imágenes a procesar\n",
    "\n",
    "imagen2 = ruta_imagenes_train + '998892.jpeg'\n",
    "imagen3 = ruta_imagenes_train + '994535.jpeg'\n",
    "#Lista para guardar todas las imágenes\n",
    "imagen_array = [imagen2, imagen3]\n",
    "#Método para guardar los embeddings de cada imagen en la misma carpeta de donde vienen las imágenes\n",
    "openl3.process_image_file(imagen_array, batch_size = 32)"
   ]
  },
  {
   "cell_type": "code",
   "execution_count": 5,
   "id": "c128fd0a-7177-46bf-b751-598276d30784",
   "metadata": {},
   "outputs": [
    {
     "data": {
      "text/plain": [
       "array([-0.17171964,  2.7841794 ,  0.58611256, ...,  0.55718577,\n",
       "        1.9009621 ,  1.2161709 ], dtype=float32)"
      ]
     },
     "execution_count": 5,
     "metadata": {},
     "output_type": "execute_result"
    }
   ],
   "source": [
    "#En este método se leerán los embeddings de las imágenes generadas en la sección anterior\n",
    "\n",
    "#Cargamos la data (embedding) de la imagen especificada\n",
    "data = np.load(ruta_imagenes_train + '998892.npz')\n",
    "#Obtenemos solo el embedding\n",
    "emb = data['embedding']\n",
    "\n",
    "emb[0]"
   ]
  },
  {
   "cell_type": "markdown",
   "id": "69d10175-9b11-4e7e-8060-964125f85bff",
   "metadata": {},
   "source": [
    "### 1.3 Uso del modelo pre cargado"
   ]
  },
  {
   "cell_type": "code",
   "execution_count": 6,
   "id": "e86c25a7-d2d9-43cf-a914-bc5f83688ab6",
   "metadata": {},
   "outputs": [
    {
     "name": "stdout",
     "output_type": "stream",
     "text": [
      "\u001b[1m1/1\u001b[0m \u001b[32m━━━━━━━━━━━━━━━━━━━━\u001b[0m\u001b[37m\u001b[0m \u001b[1m0s\u001b[0m 269ms/step\n"
     ]
    },
    {
     "data": {
      "text/plain": [
       "array([[-0.20485121,  2.7495792 ,  1.1525512 ,  1.6354275 ,  1.5630054 ,\n",
       "         3.0043402 ,  1.1680847 ,  0.20437273,  0.47765186,  1.6069542 ,\n",
       "         0.99042135,  2.744746  ,  3.0113118 ,  0.697831  ,  2.5043488 ,\n",
       "         2.8977034 ,  2.1103582 ,  1.0919865 ,  2.5187943 ,  2.6752896 ,\n",
       "         2.5137546 ,  0.80452126,  0.9297262 ,  2.2770233 ,  2.8381968 ,\n",
       "         0.6253177 ,  0.7834051 ,  1.436738  ,  1.1495699 ,  1.3403784 ,\n",
       "         1.7564527 ,  1.0250019 ,  2.2259736 ,  0.5685906 ,  2.5769222 ,\n",
       "         0.8931727 ,  2.3390589 ,  1.2697175 ,  1.2542069 ,  1.3876815 ,\n",
       "         1.3700166 ,  1.7157243 ,  0.76253283,  1.8189112 ,  0.24554229,\n",
       "         1.335274  ,  1.7735906 ,  1.3587192 ,  1.4913703 ,  1.041074  ,\n",
       "         0.53341097,  0.9961289 ,  0.8008581 ,  1.6766714 ,  1.8453351 ,\n",
       "         1.4003036 ,  1.7122384 ,  1.1727496 ,  1.851693  ,  2.0431597 ,\n",
       "         2.2497199 ,  1.0162674 ,  2.1898563 ,  1.1334101 ,  0.64272827,\n",
       "         1.9252778 ,  2.6810825 ,  1.1118598 ,  2.4728882 ,  2.0378585 ,\n",
       "         0.18904294,  0.79025114,  2.4218001 ,  2.8007655 ,  1.5280496 ,\n",
       "         1.5474136 ,  1.9214152 ,  1.3252783 ,  1.7291185 ,  1.6519809 ,\n",
       "         1.6730304 ,  0.71860415,  1.2508231 ,  1.5200086 ,  2.0593126 ,\n",
       "         1.9230796 ,  1.7712485 ,  3.1574547 ,  1.2433559 ,  2.713454  ,\n",
       "         1.4150548 ,  0.8275679 ,  0.17761555,  1.4295996 ,  0.402724  ,\n",
       "         3.7560945 ,  2.9716074 ,  2.1054938 ,  1.4818022 ,  2.4419835 ,\n",
       "         1.5843626 ,  1.7393502 ,  1.9626493 ,  1.830607  ,  0.7150854 ,\n",
       "         1.1647476 ,  1.1310599 ,  1.9774538 ,  1.4355531 ,  1.5156869 ,\n",
       "         1.5979875 ,  0.5193798 ,  1.9295925 ,  3.1267235 ,  0.37254888,\n",
       "         1.7504405 ,  2.0851407 ,  1.2470307 ,  1.0443157 , -0.09026211,\n",
       "         3.181277  ,  0.9165494 ,  1.2001781 ,  2.5041108 ,  0.9305678 ,\n",
       "         0.09242424,  1.0307933 ,  1.8854965 ,  1.5079899 ,  1.8392226 ,\n",
       "         1.8071203 ,  0.6490128 ,  1.5491434 ,  2.1097796 ,  0.8568534 ,\n",
       "         1.0614096 ,  1.536929  ,  1.2888623 ,  2.3350706 ,  0.6976912 ,\n",
       "         0.8105583 ,  1.9423215 ,  0.6261319 ,  2.3393662 ,  1.6619316 ,\n",
       "         2.0141628 ,  1.1772301 ,  0.92156947,  1.8653541 ,  1.2902074 ,\n",
       "         2.5316038 ,  0.24059922,  2.2795978 ,  1.9879104 ,  1.425057  ,\n",
       "         0.92885405,  1.5962604 ,  1.719163  ,  0.79301786,  2.2725556 ,\n",
       "         1.0584172 ,  1.4747607 ,  2.0802364 ,  0.7287637 ,  0.02222875,\n",
       "         0.68939507,  1.3485879 ,  0.55696934,  1.7018901 ,  1.2952051 ,\n",
       "         0.9304137 ,  0.71346456,  1.0721709 ,  2.3936746 ,  1.3517103 ,\n",
       "         1.8400532 ,  3.0535743 ,  1.5248033 ,  2.1646209 ,  2.8433282 ,\n",
       "         0.7472565 ,  1.3872107 ,  1.4184986 ,  1.7283857 ,  1.9101846 ,\n",
       "         3.4059415 ,  1.0183837 ,  1.2752259 ,  0.52478236,  1.4572835 ,\n",
       "         1.8859854 ,  1.1009525 ,  2.018782  ,  2.5567327 ,  2.2113345 ,\n",
       "         1.599143  ,  1.7910511 ,  0.9189052 ,  1.5837723 ,  1.4791529 ,\n",
       "         1.2947991 ,  2.3006215 ,  2.7331173 ,  1.2402371 ,  0.98130715,\n",
       "         1.3301815 ,  1.9842585 ,  1.447342  ,  1.2027946 ,  1.9843901 ,\n",
       "         2.4563801 ,  1.3951555 ,  0.72004324,  1.7766222 ,  1.9360775 ,\n",
       "         3.3049457 ,  0.8194702 ,  1.4591975 ,  1.3551744 ,  2.109625  ,\n",
       "         2.322318  ,  2.5884986 ,  2.1426508 ,  0.669836  ,  3.2447402 ,\n",
       "         1.3465672 ,  1.6958401 ,  1.9680761 ,  1.6791688 ,  2.2260683 ,\n",
       "         0.70770514,  2.1221418 ,  1.3575913 ,  0.82252675,  1.5782276 ,\n",
       "         1.5124403 ,  0.96351004,  1.4934953 ,  1.4218223 ,  2.134638  ,\n",
       "         1.7454535 ,  2.6233408 ,  1.7791142 ,  2.0155365 ,  2.0383744 ,\n",
       "         1.2378262 ,  1.0985494 ,  1.5937773 ,  1.8554164 ,  0.17792201,\n",
       "         0.53817767,  0.98444164,  1.4498764 ,  1.3323634 ,  2.3908966 ,\n",
       "         1.3856658 ,  1.3186507 ,  0.9486842 ,  3.846665  ,  1.5070676 ,\n",
       "         0.33823866,  0.7877687 , -0.16274174,  1.0884465 ,  1.9007766 ,\n",
       "         2.5469697 ,  0.66021   ,  1.5684887 ,  1.2924713 ,  0.63552445,\n",
       "         1.5935831 ,  1.4875512 ,  1.5960518 ,  0.8582631 ,  2.1310747 ,\n",
       "         1.0317056 ,  1.0481809 ,  1.8717718 ,  2.0543463 ,  1.1496912 ,\n",
       "         2.888617  ,  1.7371292 ,  2.2067773 ,  3.1110735 ,  1.0411993 ,\n",
       "         0.27202043,  0.9156175 ,  0.5618163 ,  1.6236361 ,  1.6475532 ,\n",
       "         2.3125062 ,  0.49094838,  1.1980839 ,  1.3158065 ,  3.740868  ,\n",
       "         1.9677469 ,  1.0197357 ,  1.1762849 ,  0.7334433 ,  0.34872186,\n",
       "         0.7972447 ,  1.5106252 ,  2.366034  ,  2.192229  ,  1.6929114 ,\n",
       "         1.4890344 ,  3.0548801 ,  1.0835251 ,  2.1524706 ,  0.96201026,\n",
       "         1.0682323 ,  2.3660114 ,  1.1081941 ,  0.83726406,  1.2536136 ,\n",
       "         2.2398672 ,  2.112317  ,  2.3908331 ,  0.47984797,  2.062965  ,\n",
       "         0.38893068,  1.8647356 ,  1.670881  ,  0.6539917 ,  1.2611164 ,\n",
       "         1.5717337 ,  0.50576305,  2.5663433 ,  1.8686793 ,  2.172477  ,\n",
       "         1.0179551 ,  1.0023283 ,  1.2324402 ,  1.3330743 ,  1.8540252 ,\n",
       "         2.8859663 ,  1.2206006 ,  2.1910655 ,  0.19158404,  1.1950855 ,\n",
       "         1.1625215 ,  0.5881799 ,  1.9052645 ,  0.8708216 ,  1.4036076 ,\n",
       "         0.9691802 ,  0.95226324,  1.4744202 ,  1.4248235 ,  1.2367972 ,\n",
       "         2.808134  ,  2.4231102 ,  0.5292709 ,  2.915683  ,  0.8944221 ,\n",
       "         1.0192145 ,  3.3238676 ,  1.347873  ,  1.9790424 ,  0.4238795 ,\n",
       "         1.3618789 ,  2.133664  ,  1.2368494 ,  1.7652725 ,  1.6785655 ,\n",
       "         1.1529132 ,  3.577917  ,  1.3276899 ,  3.103002  ,  1.8847266 ,\n",
       "         0.86568314,  1.7473139 ,  2.0703397 ,  1.0410285 ,  1.8536546 ,\n",
       "         1.6400666 ,  0.85971665,  0.5454826 ,  1.9495049 ,  1.6841565 ,\n",
       "         2.3934028 ,  2.4245036 ,  1.7368637 ,  1.1532226 ,  3.5255368 ,\n",
       "         2.6359017 ,  2.0186172 ,  0.97741675,  3.3602288 ,  1.6372435 ,\n",
       "         1.0248289 ,  1.292603  ,  0.53276104,  2.1690738 ,  0.18544208,\n",
       "         1.077914  ,  1.9338853 ,  3.343952  ,  1.8495357 ,  2.0533946 ,\n",
       "         2.0159342 ,  1.9051903 ,  2.091736  ,  1.2920363 ,  1.8911469 ,\n",
       "         2.4060938 ,  2.1457841 ,  0.90916306,  2.5142744 ,  1.8741465 ,\n",
       "         1.0483673 ,  1.9130058 ,  1.5597029 ,  1.6793998 ,  0.8772772 ,\n",
       "         0.43882233,  2.4843915 ,  3.2221475 ,  1.9798054 ,  1.8952355 ,\n",
       "         1.946561  ,  1.1553272 ,  1.1124197 ,  0.7784294 ,  0.44111228,\n",
       "         1.2199454 ,  0.80838984,  1.7045665 ,  1.4436787 ,  0.6235423 ,\n",
       "         1.405282  ,  0.7928036 ,  2.8732536 ,  1.6124893 ,  1.6760724 ,\n",
       "         0.7731418 ,  1.2888249 ,  1.5158899 ,  1.500979  ,  0.69608504,\n",
       "         2.3611884 ,  1.0385586 ,  2.2581875 ,  1.2921201 ,  2.0748973 ,\n",
       "         1.8155406 ,  2.4921267 ,  2.6781292 ,  1.3267325 ,  2.2051191 ,\n",
       "         0.9098008 ,  0.9012551 ,  0.12941791,  2.409787  ,  0.6900594 ,\n",
       "         2.1228986 ,  2.2754078 ,  1.1853325 ,  0.4757692 ,  1.8257791 ,\n",
       "         0.93363845,  0.8266524 ,  1.4521326 ,  1.8899059 ,  1.731703  ,\n",
       "         1.3749826 ,  2.3283339 ,  1.0289295 ,  0.7492265 ,  2.640315  ,\n",
       "         0.99254185,  1.5912545 ,  1.7530429 ,  1.5952451 ,  0.78447586,\n",
       "         2.51337   ,  2.1093833 ,  1.606523  ,  1.1113402 ,  0.39814588,\n",
       "         1.3742307 ,  0.92801857,  2.9369183 ,  1.7763023 ,  1.0433584 ,\n",
       "         0.09030688,  0.3081057 ,  1.561068  ,  1.2821492 ,  1.9407334 ,\n",
       "         2.2916896 ,  1.6688268 ,  0.95677584,  2.0200806 ,  1.8097007 ,\n",
       "         0.8366819 , -0.2874099 ,  1.8230293 ,  1.1122035 ,  2.466584  ,\n",
       "         3.9499621 ,  1.5631782 ,  1.0250038 ,  1.4679947 ,  2.22061   ,\n",
       "         0.03978098,  3.3677886 ,  1.2276036 ,  2.0392818 ,  1.563246  ,\n",
       "         1.9572912 ,  1.6245346 ]], dtype=float32)"
      ]
     },
     "execution_count": 6,
     "metadata": {},
     "output_type": "execute_result"
    }
   ],
   "source": [
    "#Método en el cual generamos el embedding de la imagen ya con el modelo pre cargado\n",
    "\n",
    "#Obtenemos el embedding final\n",
    "emb = openl3.get_image_embedding(imagen1, model=modelo)\n",
    "emb"
   ]
  },
  {
   "cell_type": "code",
   "execution_count": null,
   "id": "0c4ffba8-d1d6-4e2f-a7d6-c6b9cb53d819",
   "metadata": {},
   "outputs": [],
   "source": []
  }
 ],
 "metadata": {
  "kernelspec": {
   "display_name": "Python 3 (ipykernel)",
   "language": "python",
   "name": "python3"
  },
  "language_info": {
   "codemirror_mode": {
    "name": "ipython",
    "version": 3
   },
   "file_extension": ".py",
   "mimetype": "text/x-python",
   "name": "python",
   "nbconvert_exporter": "python",
   "pygments_lexer": "ipython3",
   "version": "3.11.7"
  }
 },
 "nbformat": 4,
 "nbformat_minor": 5
}
