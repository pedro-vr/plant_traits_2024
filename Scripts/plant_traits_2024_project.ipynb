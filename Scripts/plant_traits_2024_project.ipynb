{
 "cells": [
  {
   "cell_type": "markdown",
   "id": "2a6d2b22-5c1d-4787-b0fc-1b53ad6ee0e7",
   "metadata": {},
   "source": [
    "# PLANT TRAITS 2024"
   ]
  },
  {
   "cell_type": "markdown",
   "id": "b308a69e-228a-4af2-be93-3f56d8bda0f7",
   "metadata": {},
   "source": [
    "Primer paso es hacer una exploración rápida de la data. De acuerdo a los siguientes puntos:\n",
    "\n",
    "- Haz el conteo del número de registros que tienes - ¿es lo que esperabas?\n",
    "\n",
    "- ¿Cuáles son los tipos de datos que tienes, necesitamos cambiarlos para el modelo que deseamos aplicar?\n",
    "\n",
    "- Busca los valores nulos - ¿Cómo lidiar con ellos?\n",
    "\n",
    "- Verifica el tipo de distribución de cada columna - ¿Éstos hacen match con la distribución esperada?\n",
    "\n",
    "- Busca outliers - ¿Hay anomalias en la data, todos los valores son válidos?\n",
    "\n",
    "- Valida si tu data está balanceada - ¿Hay diferentes grupos que representan todo el conjunto de datos, hay suficientes ejemplos de cada uno de estos grupos\n",
    "\n",
    "- ¿Existen sesgos en tu data? -¿Hay subgrupos que tratas de manera más favorable que otros?\n",
    "\n",
    "- Para valores NA o NULL, en vez de eliminar aquellos registros que los contengan, mejor es sustituirlos por un valor apropiado: por ejemplo, para variables continuas, se puede utilizar la moda, media o mediana; para variables categóricas, se puede utilizar la moda o una nueva categoría (por ejemplo “NA”)\n",
    "\n",
    "- Verificar si el modelo es robusto o sensible a outliers "
   ]
  },
  {
   "cell_type": "code",
   "execution_count": null,
   "id": "989db0c3-724f-41e0-a563-734d214c7227",
   "metadata": {},
   "outputs": [],
   "source": []
  }
 ],
 "metadata": {
  "kernelspec": {
   "display_name": "Python 3 (ipykernel)",
   "language": "python",
   "name": "python3"
  },
  "language_info": {
   "codemirror_mode": {
    "name": "ipython",
    "version": 3
   },
   "file_extension": ".py",
   "mimetype": "text/x-python",
   "name": "python",
   "nbconvert_exporter": "python",
   "pygments_lexer": "ipython3",
   "version": "3.8.2"
  }
 },
 "nbformat": 4,
 "nbformat_minor": 5
}
