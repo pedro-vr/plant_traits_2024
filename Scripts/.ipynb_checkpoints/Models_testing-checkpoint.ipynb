{
 "cells": [
  {
   "cell_type": "markdown",
   "id": "b533ebb5-25f2-4de2-b526-3fd07bddd8fc",
   "metadata": {},
   "source": [
    "# PRUEBA DE MODELOS - EMBEDDING Y CLASIFICACIÓN"
   ]
  },
  {
   "cell_type": "markdown",
   "id": "6d6198e1-a0a1-4f3b-92e2-e9275b1cbce8",
   "metadata": {},
   "source": [
    "Lo que se pretende en este libro de Jupyter es empezar con las pruebas de algunos modelos que se pudieron obtener de referencia en investigaciones anteriores. Todo esto con el fin de poder tener una mejor noción de estos modelos y en el mejor de los casos, ya tener un modelo definido con el que se trabajará posteriormente. \n",
    "\n",
    "Algunos de estos modelos son simplemente de embedding, otros tantos si conllevan algunas técnicas ya avanzadas de clasificación o detección de imágenes, según corresponda. La lista de modelos que se pretende probar es la siguiente:\n",
    "\n",
    "- OpenL3 (Solo de embedding)\n",
    "\n",
    "- ViT (de Google)\n",
    "\n",
    "- Contrastors: Aquí podemos hacer el uso a su vez de dos modelos, CLIP y MRL\n",
    "\n",
    "- Sports: Lista de varios modelos que nos pueden ayudar con la tarea asignada\n",
    "\n",
    "- ResNet: Modelo moldeable con el número de capas que éste utiliza, es una red neuronal convolucional\n",
    "\n",
    "- InceptionV3: Modelo moldeable con el número de capas y parámetros que éste utiliza, es una red neuronal convolucional"
   ]
  },
  {
   "cell_type": "markdown",
   "id": "6acb689b-a783-4210-887d-07519371ef3c",
   "metadata": {},
   "source": [
    "## Modelo 1: OpenL3"
   ]
  },
  {
   "cell_type": "markdown",
   "id": "2e1456c3-f456-4ff5-ae08-bf6d6a1128ab",
   "metadata": {},
   "source": [
    "Las especificaciones de este modelo se pueden encontrar en la página de [GitHub](https://github.com/marl/openl3?tab=readme-ov-file) o su [Documentación](https://openl3.readthedocs.io/en/latest/tutorial.html#introduction) oficial.\n",
    "\n",
    "\n",
    "Los parámetros para los métodos de este modelo son los siguientes:\n",
    "\n",
    "- content_type: \"env\", \"music\" (default). \"music\" es para videos, imágenes o música\n",
    "\n",
    "- input_repr: \"linear\", \"mel128\" (default), \"mel256\"\n",
    "\n",
    "- embedding_size: 512, 8192 (default). Tamaño del array resultante con el embedding de la imagen\n",
    "\n",
    "Si el embedding ya existe, entonces no crea uno nuevo, deja el \"original\"\n",
    "\n",
    "Para este modelo, existen 3 posibilidades:\n",
    "\n",
    "1. Puedes ejecutar el modelo directamente a una imagen (o lista de imágenes) con el método \"get_image_embedding\"\n",
    "\n",
    "2. Puedes guardar el embedding en la misma carpeta de donde viene la imagen para un uso posterior. Para guardar el embedding es el método \"process_image_file\" y para cargarlo es el método \"np.load\" con np la librería \"numpy\"\n",
    "\n",
    "3. Puedes pre cargar desde un principio el modelo para que no estés cargandolo cada que lo requieras para una imagen. El método para pre cargar el modelo es \"openl3.models.load_image_embedding_model\", después, para usarlo en los métodos de los puntos anteriores, pasas el modelo con el argumento \"model\"\n",
    "\n",
    "- Del método \"imread\" obtuvimos un array de matrices sobre la imagen\n",
    "\n",
    "- De los métodos de openl3, los argumentos significan lo siguiente: **FALTA INVESTIGAR ESTA PARTE**\n",
    "\n",
    "- Hasta ahora, he podido ejecutar el modelo de manera correcta\n",
    "\n",
    "- **NOTA: Al ejecutar la función me sale un aviso de que estoy ejecutando una función costosa y me da los siguientes consejos para evitar estos cargos excesivos: Poner como argumento \"reduce_tracing = True\" o consultar documentación de TensorFlow [Doc1](https://www.tensorflow.org/guide/function#controlling_retracing) [Doc2](https://www.tensorflow.org/api_docs/python/tf/function)"
   ]
  },
  {
   "cell_type": "code",
   "execution_count": 1,
   "id": "e2945cd4-835d-4077-bb31-6359ec2fd399",
   "metadata": {},
   "outputs": [
    {
     "name": "stderr",
     "output_type": "stream",
     "text": [
      "2024-07-29 20:59:51.228546: I tensorflow/core/platform/cpu_feature_guard.cc:210] This TensorFlow binary is optimized to use available CPU instructions in performance-critical operations.\n",
      "To enable the following instructions: AVX2 FMA, in other operations, rebuild TensorFlow with the appropriate compiler flags.\n"
     ]
    }
   ],
   "source": [
    "#Librerias a utilizar en todo este proceso\n",
    "\n",
    "#!pip install openl3\n",
    "\n",
    "import openl3\n",
    "from skimage.io import imread\n",
    "import functions.general_functions as gf\n",
    "\n",
    "#Los embeddings se pueden leer con numpy\n",
    "import numpy as np"
   ]
  },
  {
   "cell_type": "code",
   "execution_count": 2,
   "id": "4a9ba985-4708-4c9c-839f-5cb242f5d5e6",
   "metadata": {},
   "outputs": [],
   "source": [
    "#Pre cargamos el modelo, al hacerlo solo una vez no es necesario pre cargar el modelo cada vez que se va a utilizar\n",
    "modelo = openl3.models.load_image_embedding_model(input_repr=\"mel256\", content_type=\"music\", embedding_size=512)\n",
    "\n",
    "#Variable global, de donde obtenemos la ruta de las imágenes de entrenamiento y prueba\n",
    "ruta_imagenes_train = gf.get_data_path('train_images')\n",
    "ruta_imagenes_test = gf.get_data_path('test_images')"
   ]
  },
  {
   "cell_type": "markdown",
   "id": "8512dc05-3dfa-4892-8778-938211136968",
   "metadata": {},
   "source": [
    "### 1.1 Aplicación directa del modelo"
   ]
  },
  {
   "cell_type": "code",
   "execution_count": 3,
   "id": "5cf42efa-e983-4461-87e4-c9c6fcf90ba4",
   "metadata": {},
   "outputs": [
    {
     "name": "stdout",
     "output_type": "stream",
     "text": [
      "\u001b[1m1/1\u001b[0m \u001b[32m━━━━━━━━━━━━━━━━━━━━\u001b[0m\u001b[37m\u001b[0m \u001b[1m0s\u001b[0m 283ms/step\n"
     ]
    },
    {
     "data": {
      "text/plain": [
       "array([[ 1.175706  ,  1.5434446 ,  1.8470824 ,  1.6111743 ,  3.9059458 ,\n",
       "         1.6161033 ,  1.1251589 ,  1.8484113 ,  1.2820483 ,  1.2422009 ,\n",
       "         1.2345903 ,  0.83172244,  1.2606227 ,  1.6085217 ,  2.310515  ,\n",
       "         1.9807837 ,  2.63912   ,  1.8400848 ,  1.7005421 ,  1.7075837 ,\n",
       "         1.0354801 ,  2.1518202 ,  0.6044424 ,  1.4306686 ,  0.98116654,\n",
       "         0.777962  ,  3.3654976 ,  4.162442  ,  1.9882624 ,  0.7811913 ,\n",
       "         2.5927725 ,  1.8348336 ,  1.7911009 ,  1.8612864 ,  2.2643867 ,\n",
       "         2.5106506 ,  1.129749  ,  0.7803635 ,  1.5808517 ,  2.0452437 ,\n",
       "         0.7477303 ,  2.566805  ,  1.2202104 ,  2.673956  ,  1.3030437 ,\n",
       "         0.9613706 ,  1.4589942 ,  1.1933473 ,  1.6517575 ,  1.4095986 ,\n",
       "         1.3867158 ,  1.8570193 ,  3.5165267 ,  1.0719959 ,  0.7293594 ,\n",
       "         2.3112679 ,  0.84064364,  2.1612198 ,  3.0060468 ,  1.9224309 ,\n",
       "         1.1812272 ,  1.891209  ,  2.472405  ,  1.2888657 ,  1.6927787 ,\n",
       "         2.1506999 ,  1.3459386 ,  2.0038981 ,  1.5930213 ,  0.47655213,\n",
       "         2.6193697 ,  1.9717464 ,  4.062987  ,  1.1046907 ,  1.1110872 ,\n",
       "         2.361168  ,  2.197923  ,  2.2356052 ,  1.5180908 ,  1.4714471 ,\n",
       "         0.7321862 ,  2.3340888 ,  2.2026641 ,  2.900152  ,  1.8455327 ,\n",
       "         2.8180366 ,  3.579984  ,  1.7780606 ,  0.6885492 ,  0.74330634,\n",
       "         1.4548118 ,  1.7892987 ,  2.623982  ,  2.2822454 ,  2.6337693 ,\n",
       "         1.810327  ,  2.0195496 ,  1.8318466 ,  0.5800682 ,  1.9717218 ,\n",
       "         1.1088709 ,  2.4765005 ,  1.3142545 ,  2.3426805 ,  3.3546166 ,\n",
       "         1.8336228 ,  1.4230171 ,  1.3460764 ,  1.2419913 ,  1.6326134 ,\n",
       "         1.8541243 ,  3.3094888 ,  3.1520083 ,  1.1276817 ,  2.1059825 ,\n",
       "         1.4034028 ,  2.2198758 ,  1.3768513 ,  2.19128   ,  0.87318957,\n",
       "         1.9403172 ,  2.2162051 ,  2.1737297 ,  1.9482977 ,  3.2339306 ,\n",
       "         2.4979992 ,  3.8708446 ,  0.30502355,  1.1382095 ,  1.8605169 ,\n",
       "         2.1578095 ,  0.5733128 ,  0.98379403,  0.8280359 ,  0.8086305 ,\n",
       "         2.3863525 ,  2.9791481 ,  1.9045479 ,  1.9796925 ,  1.8616962 ,\n",
       "         3.3632848 ,  1.8634696 ,  1.107185  ,  1.4592223 ,  1.6343129 ,\n",
       "         1.3946321 ,  1.3572518 ,  0.35844022,  1.2527131 ,  3.150411  ,\n",
       "         1.6096046 ,  1.1554693 ,  2.1358314 ,  1.7029598 ,  1.141921  ,\n",
       "         1.6153053 ,  1.6055027 ,  3.1051896 ,  3.6214821 ,  1.6230621 ,\n",
       "         1.5834004 ,  1.6298965 ,  2.8244247 ,  1.1675341 ,  2.7904487 ,\n",
       "         1.7303566 ,  2.130632  ,  0.6963417 ,  1.751126  ,  1.3575698 ,\n",
       "         2.9695826 ,  1.3795626 ,  2.0887012 ,  2.9579601 ,  1.0759045 ,\n",
       "         0.6480726 ,  1.1689644 ,  2.195088  ,  0.7771737 ,  1.8708503 ,\n",
       "         1.973008  ,  2.593222  ,  1.3974954 ,  3.137685  ,  1.4733729 ,\n",
       "         2.9118552 ,  0.6655876 ,  1.1402754 ,  1.6189083 ,  2.1220033 ,\n",
       "         1.8366833 ,  1.8314385 ,  2.2287154 ,  3.9584134 ,  1.6328561 ,\n",
       "         2.620542  ,  1.4777068 ,  0.15441383,  1.1240487 ,  3.3462892 ,\n",
       "         1.7969214 ,  1.556514  ,  2.4305325 ,  0.8590141 ,  1.6037987 ,\n",
       "         2.3268068 ,  1.0716914 ,  2.353262  ,  0.7552768 ,  2.2437394 ,\n",
       "         1.8851045 ,  1.3443502 ,  1.2537194 ,  0.95854366,  1.3386508 ,\n",
       "         0.98735577,  2.4222198 ,  1.471299  ,  0.40153554,  0.9825933 ,\n",
       "         1.8274686 ,  2.1684446 ,  1.9626218 ,  3.0763166 ,  2.1571612 ,\n",
       "         1.7695723 ,  2.6577256 ,  1.9825742 ,  2.0900128 ,  1.4026421 ,\n",
       "         1.4734573 ,  1.1778079 ,  1.3406878 ,  1.0191549 ,  2.4203165 ,\n",
       "         0.9642346 ,  1.3775394 ,  1.2101616 ,  2.7640269 ,  2.3669791 ,\n",
       "         0.7761775 ,  2.118767  ,  1.8146111 ,  1.7414246 ,  1.2149911 ,\n",
       "         1.6906894 ,  1.9912071 ,  4.472443  ,  0.4392021 ,  1.4774317 ,\n",
       "         1.5085039 ,  0.56578064,  2.3826897 ,  1.9044176 ,  1.2921616 ,\n",
       "         0.982777  ,  1.7379091 ,  1.5467534 ,  0.9382145 ,  2.8912523 ,\n",
       "         2.1456141 ,  2.7281427 ,  2.3932753 ,  1.2604761 ,  2.3788674 ,\n",
       "         1.9280934 ,  2.3026574 ,  2.244354  ,  1.2846617 ,  1.1534966 ,\n",
       "         2.1021774 ,  1.657334  ,  1.0025334 ,  2.1684284 ,  1.6966815 ,\n",
       "         3.6313214 ,  1.7694956 ,  2.2314448 ,  0.88858825,  0.8019584 ,\n",
       "         0.42250943,  2.4249673 ,  2.2758982 ,  1.6080158 ,  1.3630352 ,\n",
       "         1.0489814 , -0.0961695 ,  0.0613366 ,  3.0018718 ,  2.657539  ,\n",
       "         1.7546085 ,  2.5809753 ,  2.8700643 ,  1.0275998 ,  2.5966926 ,\n",
       "         1.8877069 ,  0.92376304,  0.8094482 ,  1.3924993 ,  0.9060505 ,\n",
       "         0.7375886 ,  1.5616958 ,  0.9408794 ,  1.807155  ,  1.5401651 ,\n",
       "         2.1586545 ,  1.2999291 ,  1.3566748 ,  0.8188017 ,  0.20982033,\n",
       "         1.4128046 ,  2.732088  ,  2.1413565 ,  0.877346  ,  2.5168564 ,\n",
       "         2.8613496 ,  1.3230908 ,  1.6020036 ,  1.7247399 ,  1.008273  ,\n",
       "         1.827462  ,  3.3676603 ,  1.7086353 ,  0.81798834,  0.38888142,\n",
       "         1.4026177 ,  0.32413113,  1.3097413 ,  1.0313536 ,  1.7172253 ,\n",
       "         2.3557925 ,  1.3111204 ,  1.3517301 ,  0.45486632,  1.5576808 ,\n",
       "         2.4745257 ,  1.9757316 ,  1.4509815 ,  2.2598398 ,  0.9587231 ,\n",
       "         1.054393  ,  0.22588788,  1.3125238 ,  1.3522398 ,  1.6951782 ,\n",
       "         3.7570148 ,  2.4094355 ,  2.3221521 ,  0.7649872 ,  0.41615215,\n",
       "         2.2115865 ,  2.4118917 ,  2.3731947 ,  1.2105519 ,  0.14909582,\n",
       "         2.1226873 ,  1.071508  ,  1.3133154 ,  0.13713017,  1.3183657 ,\n",
       "         2.7107043 ,  3.4891021 ,  1.7466547 ,  2.1628833 ,  1.3982184 ,\n",
       "         0.69732356,  3.354535  ,  1.4641207 ,  1.2138011 ,  1.1258827 ,\n",
       "         2.3859258 ,  2.208928  ,  3.1228552 ,  0.7562111 ,  2.751453  ,\n",
       "         2.0329013 ,  2.5957615 ,  1.6002452 ,  1.8631349 ,  1.2944238 ,\n",
       "         4.089752  ,  1.2022967 ,  1.8000019 ,  3.009405  ,  0.61956596,\n",
       "         1.9118965 ,  1.7915144 ,  0.7789993 ,  0.9837974 ,  1.3568966 ,\n",
       "         0.3999674 ,  1.9177532 ,  0.95263   ,  2.9284015 ,  1.149992  ,\n",
       "         2.1916583 ,  1.2177802 ,  1.5857089 ,  2.1940875 ,  0.44687366,\n",
       "         2.3858454 ,  3.9504175 ,  0.5655163 ,  2.6389308 ,  0.15950087,\n",
       "         2.1763046 ,  0.97411096,  0.27542314,  1.9027846 ,  0.509019  ,\n",
       "         1.4849098 ,  1.5165368 ,  0.02513056,  1.8518919 ,  1.4084322 ,\n",
       "         2.115561  ,  3.5317254 ,  0.74647844,  1.6053514 ,  1.0835618 ,\n",
       "         1.3358855 ,  0.8422781 ,  1.0444161 ,  1.0711006 ,  3.2195356 ,\n",
       "         1.7400088 ,  3.472991  ,  2.0065453 ,  2.3838098 ,  1.6747029 ,\n",
       "         1.0819947 ,  2.4989796 ,  0.9762982 ,  0.6131284 ,  1.9837892 ,\n",
       "         1.5807332 ,  1.2274867 ,  1.3495158 ,  2.3833666 ,  2.5631557 ,\n",
       "         1.5764227 ,  2.9738996 ,  0.93225515,  2.347555  ,  0.77388114,\n",
       "         2.2777517 ,  2.3635151 ,  1.9934646 ,  3.1203682 ,  1.4682986 ,\n",
       "         1.6839352 ,  2.1998355 ,  0.62159514,  3.8899078 ,  1.1311991 ,\n",
       "         0.533277  ,  1.5396821 ,  1.8221093 ,  1.110822  ,  0.28853527,\n",
       "         1.3727562 ,  1.1685401 ,  1.3225605 ,  0.8580937 ,  1.8518877 ,\n",
       "         1.3909699 ,  3.2519639 ,  2.1847272 ,  0.913566  ,  0.7795896 ,\n",
       "         1.2857395 ,  1.1553231 ,  1.0589856 ,  1.4379913 ,  2.7278197 ,\n",
       "         1.6744288 ,  1.1484152 ,  0.85729074,  1.5635169 ,  1.4469551 ,\n",
       "         1.3510762 ,  2.0154874 ,  1.0346603 ,  2.4419563 ,  1.469019  ,\n",
       "         2.9397585 ,  1.2478424 ,  0.93469393,  0.9532465 ,  1.6992624 ,\n",
       "         2.7834325 ,  0.32698208,  1.1154722 ,  3.0087442 ,  1.8318268 ,\n",
       "         1.8996798 ,  1.71941   ,  0.7863625 ,  1.6181277 ,  1.6955439 ,\n",
       "         1.9642757 ,  1.7384559 ,  1.752031  ,  2.4207637 ,  2.0373354 ,\n",
       "         1.7210752 ,  1.866144  ,  1.0500181 ,  1.8593454 ,  1.6727269 ,\n",
       "         2.3892353 ,  1.1329664 ]], dtype=float32)"
      ]
     },
     "execution_count": 3,
     "metadata": {},
     "output_type": "execute_result"
    }
   ],
   "source": [
    "#Método para generar los embeddings de manera directa\n",
    "\n",
    "#Nombre de la imagen a la cual aplicaremos el modelo\n",
    "imagen_name = '993123.jpeg'\n",
    "\n",
    "#Leemos la imagen\n",
    "imagen1 = imread(ruta_imagenes_train + imagen_name)\n",
    "#Generamos el embedding de la imagen de manera directa\n",
    "emb = openl3.get_image_embedding(imagen1, content_type=\"env\", input_repr=\"linear\", embedding_size=512)\n",
    "\n",
    "emb"
   ]
  },
  {
   "cell_type": "markdown",
   "id": "1b49b5a1-03cb-46de-bb64-dea1ea37768c",
   "metadata": {},
   "source": [
    "### 1.2 Guardar Embedding para uso futuro"
   ]
  },
  {
   "cell_type": "code",
   "execution_count": 4,
   "id": "2bd6eab2-7011-44bf-9a3f-66677a1ca423",
   "metadata": {},
   "outputs": [
    {
     "name": "stdout",
     "output_type": "stream",
     "text": [
      "openl3: Processing /Users/pedrovela/Docs/Datasets - ML/planttraits2024/train_images/998892.jpeg (1/2)\n",
      "openl3: /Users/pedrovela/Docs/Datasets - ML/planttraits2024/train_images/998892.npz exists, skipping.\n",
      "openl3: Processing /Users/pedrovela/Docs/Datasets - ML/planttraits2024/train_images/994535.jpeg (2/2)\n",
      "openl3: /Users/pedrovela/Docs/Datasets - ML/planttraits2024/train_images/994535.npz exists, skipping.\n"
     ]
    }
   ],
   "source": [
    "#Aplicación del modelo a más de una imagen\n",
    "\n",
    "#Rutas finales de las imágenes a procesar\n",
    "\n",
    "imagen2 = ruta_imagenes_train + '998892.jpeg'\n",
    "imagen3 = ruta_imagenes_train + '994535.jpeg'\n",
    "#Lista para guardar todas las imágenes\n",
    "imagen_array = [imagen2, imagen3]\n",
    "#Método para guardar los embeddings de cada imagen en la misma carpeta de donde vienen las imágenes\n",
    "openl3.process_image_file(imagen_array, batch_size = 32)"
   ]
  },
  {
   "cell_type": "code",
   "execution_count": 5,
   "id": "c128fd0a-7177-46bf-b751-598276d30784",
   "metadata": {},
   "outputs": [
    {
     "data": {
      "text/plain": [
       "array([-0.17171964,  2.7841794 ,  0.58611256, ...,  0.55718577,\n",
       "        1.9009621 ,  1.2161709 ], dtype=float32)"
      ]
     },
     "execution_count": 5,
     "metadata": {},
     "output_type": "execute_result"
    }
   ],
   "source": [
    "#En este método se leerán los embeddings de las imágenes generadas en la sección anterior\n",
    "\n",
    "#Cargamos la data (embedding) de la imagen especificada\n",
    "data = np.load(ruta_imagenes_train + '998892.npz')\n",
    "#Obtenemos solo el embedding\n",
    "emb = data['embedding']\n",
    "\n",
    "emb[0]"
   ]
  },
  {
   "cell_type": "markdown",
   "id": "69d10175-9b11-4e7e-8060-964125f85bff",
   "metadata": {},
   "source": [
    "### 1.3 Uso del modelo pre cargado"
   ]
  },
  {
   "cell_type": "code",
   "execution_count": null,
   "id": "e86c25a7-d2d9-43cf-a914-bc5f83688ab6",
   "metadata": {},
   "outputs": [],
   "source": [
    "#Método en el cual generamos el embedding de la imagen ya con el modelo pre cargado\n",
    "\n",
    "#Obtenemos el embedding final\n",
    "emb = openl3.get_image_embedding(imagen1, model=modelo)\n",
    "emb"
   ]
  },
  {
   "cell_type": "code",
   "execution_count": null,
   "id": "0c4ffba8-d1d6-4e2f-a7d6-c6b9cb53d819",
   "metadata": {},
   "outputs": [],
   "source": []
  }
 ],
 "metadata": {
  "kernelspec": {
   "display_name": "Python 3 (ipykernel)",
   "language": "python",
   "name": "python3"
  },
  "language_info": {
   "codemirror_mode": {
    "name": "ipython",
    "version": 3
   },
   "file_extension": ".py",
   "mimetype": "text/x-python",
   "name": "python",
   "nbconvert_exporter": "python",
   "pygments_lexer": "ipython3",
   "version": "3.11.7"
  }
 },
 "nbformat": 4,
 "nbformat_minor": 5
}
